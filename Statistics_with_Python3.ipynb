{
  "nbformat": 4,
  "nbformat_minor": 0,
  "metadata": {
    "colab": {
      "name": "Statistics with Python.ipynb",
      "provenance": [],
      "collapsed_sections": [],
      "authorship_tag": "ABX9TyOhNGiQQLyuWiwCFmDcrf9G",
      "include_colab_link": true
    },
    "kernelspec": {
      "name": "python3",
      "display_name": "Python 3"
    },
    "language_info": {
      "name": "python"
    }
  },
  "cells": [
    {
      "cell_type": "markdown",
      "metadata": {
        "id": "view-in-github",
        "colab_type": "text"
      },
      "source": [
        "<a href=\"https://colab.research.google.com/github/nadireus/Statistics-with-Python/blob/main/Statistics_with_Python3.ipynb\" target=\"_parent\"><img src=\"https://colab.research.google.com/assets/colab-badge.svg\" alt=\"Open In Colab\"/></a>"
      ]
    },
    {
      "cell_type": "markdown",
      "metadata": {
        "id": "O1f9hNgijbNV"
      },
      "source": [
        "#EXERCISE 1. The hourly wages in a particular industry are normally distributed with mean $13.20 and standard deviation $2.50. A company in this industry employs 40 workers, paying them an average of $12.20 per hour. Can this company be accused of paying substandard wages? Use an α = .01 level test. (Wackerly, Ex.10.18)\n",
        "\n",
        "CHECK: statistic: -2.5298221281347035, pvalue= 0.005706018193000826\n",
        "\n",
        "\n"
      ]
    },
    {
      "cell_type": "code",
      "metadata": {
        "id": "c4k3w8M5z8sm"
      },
      "source": [
        "import numpy as np"
      ],
      "execution_count": 4,
      "outputs": []
    },
    {
      "cell_type": "code",
      "metadata": {
        "id": "U0NkbE7Miker"
      },
      "source": [
        "\n",
        "import pandas as pd\n",
        "from scipy import stats\n",
        "import matplotlib.pyplot as plt\n",
        "import seaborn as sns"
      ],
      "execution_count": 3,
      "outputs": []
    },
    {
      "cell_type": "code",
      "metadata": {
        "colab": {
          "base_uri": "https://localhost:8080/"
        },
        "id": "jVt829D8BOq4",
        "outputId": "2bed3ba6-940a-4635-f69b-38a74579f5fb"
      },
      "source": [
        "1-stats.t.cdf(12.20, 39)"
      ],
      "execution_count": 92,
      "outputs": [
        {
          "output_type": "execute_result",
          "data": {
            "text/plain": [
              "3.4416913763379853e-15"
            ]
          },
          "metadata": {},
          "execution_count": 92
        }
      ]
    },
    {
      "cell_type": "code",
      "metadata": {
        "colab": {
          "base_uri": "https://localhost:8080/"
        },
        "id": "EEIw8HaMk8TU",
        "outputId": "9d8ca9b2-d879-4d59-9a4c-5330084268c8"
      },
      "source": [
        "mean=13.20\n",
        "st=2.50\n",
        "#40>30\n",
        "avgpay=12.50\n",
        "#H1>H0?\n",
        "# Calculate the test statistic\n",
        "t_test = ( mean-avgpay )/(st/np.sqrt(40))\n",
        "t_test\n",
        "# Calculate p-value\n",
        "pvalue=1 - stats.t.cdf(t_test, 39)\n",
        "\n",
        "print(pvalue,t_test)\n"
      ],
      "execution_count": 97,
      "outputs": [
        {
          "output_type": "stream",
          "name": "stdout",
          "text": [
            "0.04219856533558264 1.7708754896942909\n"
          ]
        }
      ]
    },
    {
      "cell_type": "markdown",
      "metadata": {
        "id": "vPycUGl-j-Bn"
      },
      "source": [
        "\n",
        "EXERCISE 2.Shear strength measurements derived from unconfined compression tests for two types of soils gave the results shown in the following document (measurements in tons per square foot). Do the soils appear to differ with respect to average shear strength, at the 1% significance level?\n",
        "\n",
        "Results for two type of soils\n",
        "\n",
        "CHECK: statistic: 5.1681473319343345, pvalue= 2.593228732352821e-06"
      ]
    },
    {
      "cell_type": "code",
      "metadata": {
        "id": "mH2cnjM4jaYf"
      },
      "source": [
        "df = pd.read_csv(\"soil.csv\")"
      ],
      "execution_count": 78,
      "outputs": []
    },
    {
      "cell_type": "code",
      "metadata": {
        "id": "_We7YsdOyuE8"
      },
      "source": [
        "df"
      ],
      "execution_count": null,
      "outputs": []
    },
    {
      "cell_type": "code",
      "metadata": {
        "colab": {
          "base_uri": "https://localhost:8080/"
        },
        "id": "pRv3SepDzIFR",
        "outputId": "ef4d8576-cefd-4dca-aa77-e0be8baa79b0"
      },
      "source": [
        "df.Soil1.mean()"
      ],
      "execution_count": 9,
      "outputs": [
        {
          "output_type": "execute_result",
          "data": {
            "text/plain": [
              "1.6918"
            ]
          },
          "metadata": {},
          "execution_count": 9
        }
      ]
    },
    {
      "cell_type": "code",
      "metadata": {
        "colab": {
          "base_uri": "https://localhost:8080/"
        },
        "id": "bq-Ie1xGx5qK",
        "outputId": "d89288c3-35f4-4ffd-c021-be106a0b450f"
      },
      "source": [
        "df.Soil2.mean()"
      ],
      "execution_count": 10,
      "outputs": [
        {
          "output_type": "execute_result",
          "data": {
            "text/plain": [
              "1.4171142857142858"
            ]
          },
          "metadata": {},
          "execution_count": 10
        }
      ]
    },
    {
      "cell_type": "code",
      "metadata": {
        "colab": {
          "base_uri": "https://localhost:8080/"
        },
        "id": "zC1n-03_zdQn",
        "outputId": "a926128d-e17d-4b64-8492-f216e09f6132"
      },
      "source": [
        "indTest = stats.ttest_ind(df.dropna().Soil1, df.dropna().Soil2)\n",
        "print(indTest)"
      ],
      "execution_count": 79,
      "outputs": [
        {
          "output_type": "stream",
          "name": "stdout",
          "text": [
            "Ttest_indResult(statistic=5.134893443609085, pvalue=3.440204643633666e-06)\n"
          ]
        }
      ]
    },
    {
      "cell_type": "code",
      "metadata": {
        "colab": {
          "base_uri": "https://localhost:8080/"
        },
        "id": "TqILCHdX0Jdx",
        "outputId": "293f6e52-2909-4302-8765-4cbe7337953c"
      },
      "source": [
        "pairedtest = stats.ttest_rel(df.dropna().Soil1, df.dropna().Soil2)\n",
        "pairedtest"
      ],
      "execution_count": 81,
      "outputs": [
        {
          "output_type": "execute_result",
          "data": {
            "text/plain": [
              "Ttest_relResult(statistic=5.309754126390885, pvalue=1.0725240883541837e-05)"
            ]
          },
          "metadata": {},
          "execution_count": 81
        }
      ]
    },
    {
      "cell_type": "markdown",
      "metadata": {
        "id": "Kzkf8kX6kAJ5"
      },
      "source": [
        "\n",
        "EXERCISE 3. The following dataset is based on data provided by the World Bank (https://datacatalog.worldbank.org/dataset/education-statistics). World Bank Edstats.  2015 PISA Test Dataset\n",
        "\n",
        "Get descriptive statistics (the central tendency, dispersion and shape of a dataset’s distribution) for each continent group (AS, EU, AF, NA, SA, OC).\n",
        "Determine whether there is any difference (on the average) for the math scores among European (EU) and Asian (AS) countries (assume normality and equal variances). Draw side-by-side box plots.\n",
        "CHECK: statistic=0.870055317967983, pvalue=0.38826888111307345"
      ]
    },
    {
      "cell_type": "code",
      "metadata": {
        "id": "F7DrMLkXjabN"
      },
      "source": [
        "df1 = pd.read_csv(\"pisa.csv\")"
      ],
      "execution_count": 28,
      "outputs": []
    },
    {
      "cell_type": "code",
      "metadata": {
        "colab": {
          "base_uri": "https://localhost:8080/",
          "height": 419
        },
        "id": "jGRHnNwcOaRM",
        "outputId": "baf91475-c3d0-42fd-cf86-fd26d1909fb7"
      },
      "source": [
        "df1"
      ],
      "execution_count": 13,
      "outputs": [
        {
          "output_type": "execute_result",
          "data": {
            "text/html": [
              "<div>\n",
              "<style scoped>\n",
              "    .dataframe tbody tr th:only-of-type {\n",
              "        vertical-align: middle;\n",
              "    }\n",
              "\n",
              "    .dataframe tbody tr th {\n",
              "        vertical-align: top;\n",
              "    }\n",
              "\n",
              "    .dataframe thead th {\n",
              "        text-align: right;\n",
              "    }\n",
              "</style>\n",
              "<table border=\"1\" class=\"dataframe\">\n",
              "  <thead>\n",
              "    <tr style=\"text-align: right;\">\n",
              "      <th></th>\n",
              "      <th>Country Code</th>\n",
              "      <th>Continent_Code</th>\n",
              "      <th>internet_users_per_100</th>\n",
              "      <th>Math</th>\n",
              "      <th>Reading</th>\n",
              "      <th>Science</th>\n",
              "    </tr>\n",
              "  </thead>\n",
              "  <tbody>\n",
              "    <tr>\n",
              "      <th>0</th>\n",
              "      <td>ALB</td>\n",
              "      <td>EU</td>\n",
              "      <td>63.252933</td>\n",
              "      <td>413.1570</td>\n",
              "      <td>405.2588</td>\n",
              "      <td>427.2250</td>\n",
              "    </tr>\n",
              "    <tr>\n",
              "      <th>1</th>\n",
              "      <td>ARE</td>\n",
              "      <td>AS</td>\n",
              "      <td>90.500000</td>\n",
              "      <td>427.4827</td>\n",
              "      <td>433.5423</td>\n",
              "      <td>436.7311</td>\n",
              "    </tr>\n",
              "    <tr>\n",
              "      <th>2</th>\n",
              "      <td>ARG</td>\n",
              "      <td>SA</td>\n",
              "      <td>68.043064</td>\n",
              "      <td>409.0333</td>\n",
              "      <td>425.3031</td>\n",
              "      <td>432.2262</td>\n",
              "    </tr>\n",
              "    <tr>\n",
              "      <th>3</th>\n",
              "      <td>AUS</td>\n",
              "      <td>OC</td>\n",
              "      <td>84.560519</td>\n",
              "      <td>493.8962</td>\n",
              "      <td>502.9006</td>\n",
              "      <td>509.9939</td>\n",
              "    </tr>\n",
              "    <tr>\n",
              "      <th>4</th>\n",
              "      <td>AUT</td>\n",
              "      <td>EU</td>\n",
              "      <td>83.940142</td>\n",
              "      <td>496.7423</td>\n",
              "      <td>484.8656</td>\n",
              "      <td>495.0375</td>\n",
              "    </tr>\n",
              "    <tr>\n",
              "      <th>...</th>\n",
              "      <td>...</td>\n",
              "      <td>...</td>\n",
              "      <td>...</td>\n",
              "      <td>...</td>\n",
              "      <td>...</td>\n",
              "      <td>...</td>\n",
              "    </tr>\n",
              "    <tr>\n",
              "      <th>65</th>\n",
              "      <td>TUN</td>\n",
              "      <td>AF</td>\n",
              "      <td>48.519836</td>\n",
              "      <td>366.8180</td>\n",
              "      <td>361.0555</td>\n",
              "      <td>386.4034</td>\n",
              "    </tr>\n",
              "    <tr>\n",
              "      <th>66</th>\n",
              "      <td>TUR</td>\n",
              "      <td>EU</td>\n",
              "      <td>53.744979</td>\n",
              "      <td>420.4540</td>\n",
              "      <td>428.3351</td>\n",
              "      <td>425.4895</td>\n",
              "    </tr>\n",
              "    <tr>\n",
              "      <th>67</th>\n",
              "      <td>URY</td>\n",
              "      <td>SA</td>\n",
              "      <td>64.600000</td>\n",
              "      <td>417.9919</td>\n",
              "      <td>436.5721</td>\n",
              "      <td>435.3630</td>\n",
              "    </tr>\n",
              "    <tr>\n",
              "      <th>68</th>\n",
              "      <td>USA</td>\n",
              "      <td>NaN</td>\n",
              "      <td>74.554202</td>\n",
              "      <td>469.6285</td>\n",
              "      <td>496.9351</td>\n",
              "      <td>496.2424</td>\n",
              "    </tr>\n",
              "    <tr>\n",
              "      <th>69</th>\n",
              "      <td>VNM</td>\n",
              "      <td>AS</td>\n",
              "      <td>43.500000</td>\n",
              "      <td>494.5183</td>\n",
              "      <td>486.7738</td>\n",
              "      <td>524.6445</td>\n",
              "    </tr>\n",
              "  </tbody>\n",
              "</table>\n",
              "<p>70 rows × 6 columns</p>\n",
              "</div>"
            ],
            "text/plain": [
              "   Country Code Continent_Code  ...   Reading   Science\n",
              "0           ALB             EU  ...  405.2588  427.2250\n",
              "1           ARE             AS  ...  433.5423  436.7311\n",
              "2           ARG             SA  ...  425.3031  432.2262\n",
              "3           AUS             OC  ...  502.9006  509.9939\n",
              "4           AUT             EU  ...  484.8656  495.0375\n",
              "..          ...            ...  ...       ...       ...\n",
              "65          TUN             AF  ...  361.0555  386.4034\n",
              "66          TUR             EU  ...  428.3351  425.4895\n",
              "67          URY             SA  ...  436.5721  435.3630\n",
              "68          USA            NaN  ...  496.9351  496.2424\n",
              "69          VNM             AS  ...  486.7738  524.6445\n",
              "\n",
              "[70 rows x 6 columns]"
            ]
          },
          "metadata": {},
          "execution_count": 13
        }
      ]
    },
    {
      "cell_type": "code",
      "metadata": {
        "colab": {
          "base_uri": "https://localhost:8080/",
          "height": 173
        },
        "id": "TJyD5_qvPg0A",
        "outputId": "21427aed-7611-48e0-cb7d-8edfcea84f7f"
      },
      "source": [
        "df1.describe(include=['object'])"
      ],
      "execution_count": 14,
      "outputs": [
        {
          "output_type": "execute_result",
          "data": {
            "text/html": [
              "<div>\n",
              "<style scoped>\n",
              "    .dataframe tbody tr th:only-of-type {\n",
              "        vertical-align: middle;\n",
              "    }\n",
              "\n",
              "    .dataframe tbody tr th {\n",
              "        vertical-align: top;\n",
              "    }\n",
              "\n",
              "    .dataframe thead th {\n",
              "        text-align: right;\n",
              "    }\n",
              "</style>\n",
              "<table border=\"1\" class=\"dataframe\">\n",
              "  <thead>\n",
              "    <tr style=\"text-align: right;\">\n",
              "      <th></th>\n",
              "      <th>Country Code</th>\n",
              "      <th>Continent_Code</th>\n",
              "    </tr>\n",
              "  </thead>\n",
              "  <tbody>\n",
              "    <tr>\n",
              "      <th>count</th>\n",
              "      <td>70</td>\n",
              "      <td>65</td>\n",
              "    </tr>\n",
              "    <tr>\n",
              "      <th>unique</th>\n",
              "      <td>70</td>\n",
              "      <td>5</td>\n",
              "    </tr>\n",
              "    <tr>\n",
              "      <th>top</th>\n",
              "      <td>KOR</td>\n",
              "      <td>EU</td>\n",
              "    </tr>\n",
              "    <tr>\n",
              "      <th>freq</th>\n",
              "      <td>1</td>\n",
              "      <td>37</td>\n",
              "    </tr>\n",
              "  </tbody>\n",
              "</table>\n",
              "</div>"
            ],
            "text/plain": [
              "       Country Code Continent_Code\n",
              "count            70             65\n",
              "unique           70              5\n",
              "top             KOR             EU\n",
              "freq              1             37"
            ]
          },
          "metadata": {},
          "execution_count": 14
        }
      ]
    },
    {
      "cell_type": "code",
      "metadata": {
        "colab": {
          "base_uri": "https://localhost:8080/",
          "height": 297
        },
        "id": "4H-M-Z4hOaZh",
        "outputId": "9f6b0ee7-ae9e-43c9-9fc3-174a6553c24b"
      },
      "source": [
        "df1.describe()"
      ],
      "execution_count": 15,
      "outputs": [
        {
          "output_type": "execute_result",
          "data": {
            "text/html": [
              "<div>\n",
              "<style scoped>\n",
              "    .dataframe tbody tr th:only-of-type {\n",
              "        vertical-align: middle;\n",
              "    }\n",
              "\n",
              "    .dataframe tbody tr th {\n",
              "        vertical-align: top;\n",
              "    }\n",
              "\n",
              "    .dataframe thead th {\n",
              "        text-align: right;\n",
              "    }\n",
              "</style>\n",
              "<table border=\"1\" class=\"dataframe\">\n",
              "  <thead>\n",
              "    <tr style=\"text-align: right;\">\n",
              "      <th></th>\n",
              "      <th>internet_users_per_100</th>\n",
              "      <th>Math</th>\n",
              "      <th>Reading</th>\n",
              "      <th>Science</th>\n",
              "    </tr>\n",
              "  </thead>\n",
              "  <tbody>\n",
              "    <tr>\n",
              "      <th>count</th>\n",
              "      <td>70.000000</td>\n",
              "      <td>70.000000</td>\n",
              "      <td>70.000000</td>\n",
              "      <td>70.000000</td>\n",
              "    </tr>\n",
              "    <tr>\n",
              "      <th>mean</th>\n",
              "      <td>71.973099</td>\n",
              "      <td>460.971557</td>\n",
              "      <td>460.997291</td>\n",
              "      <td>465.439093</td>\n",
              "    </tr>\n",
              "    <tr>\n",
              "      <th>std</th>\n",
              "      <td>16.390632</td>\n",
              "      <td>53.327205</td>\n",
              "      <td>49.502679</td>\n",
              "      <td>48.397254</td>\n",
              "    </tr>\n",
              "    <tr>\n",
              "      <th>min</th>\n",
              "      <td>21.976068</td>\n",
              "      <td>327.702000</td>\n",
              "      <td>346.549000</td>\n",
              "      <td>331.638800</td>\n",
              "    </tr>\n",
              "    <tr>\n",
              "      <th>25%</th>\n",
              "      <td>60.899020</td>\n",
              "      <td>417.416075</td>\n",
              "      <td>426.948625</td>\n",
              "      <td>425.923375</td>\n",
              "    </tr>\n",
              "    <tr>\n",
              "      <th>50%</th>\n",
              "      <td>72.999350</td>\n",
              "      <td>477.607150</td>\n",
              "      <td>480.199850</td>\n",
              "      <td>475.400050</td>\n",
              "    </tr>\n",
              "    <tr>\n",
              "      <th>75%</th>\n",
              "      <td>85.026763</td>\n",
              "      <td>500.482925</td>\n",
              "      <td>499.687475</td>\n",
              "      <td>502.431250</td>\n",
              "    </tr>\n",
              "    <tr>\n",
              "      <th>max</th>\n",
              "      <td>98.200000</td>\n",
              "      <td>564.189700</td>\n",
              "      <td>535.100200</td>\n",
              "      <td>555.574700</td>\n",
              "    </tr>\n",
              "  </tbody>\n",
              "</table>\n",
              "</div>"
            ],
            "text/plain": [
              "       internet_users_per_100        Math     Reading     Science\n",
              "count               70.000000   70.000000   70.000000   70.000000\n",
              "mean                71.973099  460.971557  460.997291  465.439093\n",
              "std                 16.390632   53.327205   49.502679   48.397254\n",
              "min                 21.976068  327.702000  346.549000  331.638800\n",
              "25%                 60.899020  417.416075  426.948625  425.923375\n",
              "50%                 72.999350  477.607150  480.199850  475.400050\n",
              "75%                 85.026763  500.482925  499.687475  502.431250\n",
              "max                 98.200000  564.189700  535.100200  555.574700"
            ]
          },
          "metadata": {},
          "execution_count": 15
        }
      ]
    },
    {
      "cell_type": "code",
      "metadata": {
        "colab": {
          "base_uri": "https://localhost:8080/"
        },
        "id": "1-oRTLsbQR3M",
        "outputId": "b8ad7b2c-0b19-4c2d-fdd6-0a839f1602a7"
      },
      "source": [
        "stats.mode(df1)"
      ],
      "execution_count": 18,
      "outputs": [
        {
          "output_type": "execute_result",
          "data": {
            "text/plain": [
              "ModeResult(mode=array([['MAC', 'EU', 21.97606771, 505.9713, 409.1301, 421.3373]],\n",
              "      dtype=object), count=array([[ 1, 37,  1,  1,  1,  1]]))"
            ]
          },
          "metadata": {},
          "execution_count": 18
        }
      ]
    },
    {
      "cell_type": "code",
      "metadata": {
        "colab": {
          "base_uri": "https://localhost:8080/"
        },
        "id": "r-w15DYiQR6V",
        "outputId": "abc59431-a19e-4ce5-ab1e-2ddb5ab9e895"
      },
      "source": [
        "df1.shape"
      ],
      "execution_count": 20,
      "outputs": [
        {
          "output_type": "execute_result",
          "data": {
            "text/plain": [
              "(70, 6)"
            ]
          },
          "metadata": {},
          "execution_count": 20
        }
      ]
    },
    {
      "cell_type": "code",
      "metadata": {
        "colab": {
          "base_uri": "https://localhost:8080/",
          "height": 396
        },
        "id": "BicMAj54ajvb",
        "outputId": "b2ba2be7-89a5-4751-af3a-c30586f305d6"
      },
      "source": [
        "sns.set(style='whitegrid', palette=\"deep\", font_scale=1.1, rc={\"figure.figsize\": [8, 5]})\n",
        "sns.distplot(\n",
        "    df1.Math, norm_hist=False, kde=False, bins=20, hist_kws={\"alpha\": 1}\n",
        ").set(xlabel='Math Distrubition', ylabel='Count');"
      ],
      "execution_count": 40,
      "outputs": [
        {
          "output_type": "stream",
          "name": "stderr",
          "text": [
            "/usr/local/lib/python3.7/dist-packages/seaborn/distributions.py:2619: FutureWarning: `distplot` is a deprecated function and will be removed in a future version. Please adapt your code to use either `displot` (a figure-level function with similar flexibility) or `histplot` (an axes-level function for histograms).\n",
            "  warnings.warn(msg, FutureWarning)\n"
          ]
        },
        {
          "output_type": "display_data",
          "data": {
            "image/png": "[encoded data removed]",
            "text/plain": [
              "<Figure size 576x360 with 1 Axes>"
            ]
          },
          "metadata": {}
        }
      ]
    },
    {
      "cell_type": "code",
      "metadata": {
        "id": "n2a4kmBvFd0R"
      },
      "source": [
        "ASmath=df1[df1['Continent_Code']=='AS']['Math']\n",
        "ASmath"
      ],
      "execution_count": null,
      "outputs": []
    },
    {
      "cell_type": "code",
      "metadata": {
        "id": "tKuqyKidFbHn"
      },
      "source": [
        "EUmath=df1[df1['Continent_Code']=='EU']['Math']\n",
        "EUmath"
      ],
      "execution_count": null,
      "outputs": []
    },
    {
      "cell_type": "code",
      "metadata": {
        "colab": {
          "base_uri": "https://localhost:8080/"
        },
        "id": "fYA69gMDFZ7F",
        "outputId": "4cb6bb6f-4996-4c29-d037-8bcd20e7549b"
      },
      "source": [
        "indTest = stats.ttest_ind(ASmath, EUmath, equal_var = True)\n",
        "indTest "
      ],
      "execution_count": 11,
      "outputs": [
        {
          "output_type": "execute_result",
          "data": {
            "text/plain": [
              "Ttest_indResult(statistic=-0.870055317967983, pvalue=0.38826888111307345)"
            ]
          },
          "metadata": {},
          "execution_count": 11
        }
      ]
    },
    {
      "cell_type": "code",
      "metadata": {
        "id": "5R6A1YVlWUdR"
      },
      "source": [
        "import seaborn as sns\n",
        "\n"
      ],
      "execution_count": 20,
      "outputs": []
    },
    {
      "cell_type": "code",
      "metadata": {
        "colab": {
          "base_uri": "https://localhost:8080/",
          "height": 342
        },
        "id": "nP8ufqwhisgc",
        "outputId": "dc707283-a206-4640-d36d-9f315bb3a055"
      },
      "source": [
        "sns.barplot(x=\"Continent_Code\", y=\"Math\", data=df1)\n",
        "plt.show()"
      ],
      "execution_count": 62,
      "outputs": [
        {
          "output_type": "display_data",
          "data": {
            "image/png": "[encoded data removed]",
            "text/plain": [
              "<Figure size 576x360 with 1 Axes>"
            ]
          },
          "metadata": {}
        }
      ]
    },
    {
      "cell_type": "code",
      "metadata": {
        "colab": {
          "base_uri": "https://localhost:8080/",
          "height": 342
        },
        "id": "q3dV5h_bXU7a",
        "outputId": "1f319655-c2c8-4036-c58d-7a8ca74105ed"
      },
      "source": [
        "sns.boxplot(x=\"Continent_Code\", y=\"Math\" ,data=df1)\n",
        "plt.show()"
      ],
      "execution_count": 65,
      "outputs": [
        {
          "output_type": "display_data",
          "data": {
            "image/png": "[encoded data removed]",
            "text/plain": [
              "<Figure size 576x360 with 1 Axes>"
            ]
          },
          "metadata": {}
        }
      ]
    },
    {
      "cell_type": "code",
      "metadata": {
        "id": "cJkXviS7aEZB"
      },
      "source": [
        "x=df1[(df1['Continent_Code']=='EU')|(df1['Continent_Code']=='AS' )]\n",
        "x"
      ],
      "execution_count": null,
      "outputs": []
    },
    {
      "cell_type": "code",
      "metadata": {
        "colab": {
          "base_uri": "https://localhost:8080/",
          "height": 342
        },
        "id": "FOSmZg-5KsPe",
        "outputId": "7eb06fde-8cc2-41a3-8054-4c00bb779c45"
      },
      "source": [
        "sns.boxplot(x=\"Continent_Code\", y=\"Math\", data=x, hue=\"Continent_Code\")\n",
        "plt.show()\n"
      ],
      "execution_count": 60,
      "outputs": [
        {
          "output_type": "display_data",
          "data": {
            "image/png": "[encoded data removed]",
            "text/plain": [
              "<Figure size 576x360 with 1 Axes>"
            ]
          },
          "metadata": {}
        }
      ]
    },
    {
      "cell_type": "markdown",
      "metadata": {
        "id": "nv3P0e8QR7Ms"
      },
      "source": [
        "Highly skewed distribution: If the skewness value is less than −1 or greater than +1.\n",
        "\n",
        "Moderately skewed distribution: If the skewness value is between −1 and −½ or between +½ and +1.\n",
        "\n",
        "Approximately symmetric distribution: If the skewness value is between −½ and +½."
      ]
    },
    {
      "cell_type": "code",
      "metadata": {
        "colab": {
          "base_uri": "https://localhost:8080/"
        },
        "id": "jdwfMzHDRpAM",
        "outputId": "b152ca04-bf89-4055-9621-16abc60221c4"
      },
      "source": [
        "\n",
        "print(df1.skew())"
      ],
      "execution_count": 23,
      "outputs": [
        {
          "output_type": "stream",
          "name": "stdout",
          "text": [
            "internet_users_per_100   -0.597903\n",
            "Math                     -0.383761\n",
            "Reading                  -0.604482\n",
            "Science                  -0.392631\n",
            "dtype: float64\n"
          ]
        }
      ]
    },
    {
      "cell_type": "markdown",
      "metadata": {
        "id": "Kc2Wbj0xkFhe"
      },
      "source": [
        "EXERCISE 4.The sample dataset has placement test scores (out of 100 points) for four subject areas: English, Reading, Math, and Writing. Students in the sample completed all 4 placement tests when they enrolled in the university. Suppose we are particularly interested in the English and Math sections, and want to determine whether students tended to score higher on their English or Math test, on average. We could use a paired t test to test if there was a significant difference in the average of the two tests.CHECK: statistic=36.312568981719856, pvalue=3.0710987192210606e-128"
      ]
    },
    {
      "cell_type": "code",
      "metadata": {
        "id": "s3QxaB6rjadg"
      },
      "source": [
        "df3 = pd.read_csv(\"student.csv\")"
      ],
      "execution_count": 67,
      "outputs": []
    },
    {
      "cell_type": "code",
      "metadata": {
        "colab": {
          "base_uri": "https://localhost:8080/",
          "height": 292
        },
        "id": "3CiEyPT-jafq",
        "outputId": "184ba5cd-a6d1-438a-9046-f4a6099a057a"
      },
      "source": [
        "df3.head()"
      ],
      "execution_count": 68,
      "outputs": [
        {
          "output_type": "execute_result",
          "data": {
            "text/html": [
              "<div>\n",
              "<style scoped>\n",
              "    .dataframe tbody tr th:only-of-type {\n",
              "        vertical-align: middle;\n",
              "    }\n",
              "\n",
              "    .dataframe tbody tr th {\n",
              "        vertical-align: top;\n",
              "    }\n",
              "\n",
              "    .dataframe thead th {\n",
              "        text-align: right;\n",
              "    }\n",
              "</style>\n",
              "<table border=\"1\" class=\"dataframe\">\n",
              "  <thead>\n",
              "    <tr style=\"text-align: right;\">\n",
              "      <th></th>\n",
              "      <th>ids</th>\n",
              "      <th>bday</th>\n",
              "      <th>enrolldate</th>\n",
              "      <th>expgradate</th>\n",
              "      <th>Rank</th>\n",
              "      <th>Major</th>\n",
              "      <th>Gender</th>\n",
              "      <th>Athlete</th>\n",
              "      <th>Height</th>\n",
              "      <th>Weight</th>\n",
              "      <th>Smoking</th>\n",
              "      <th>Sprint</th>\n",
              "      <th>MileMinDur</th>\n",
              "      <th>English</th>\n",
              "      <th>Reading</th>\n",
              "      <th>Math</th>\n",
              "      <th>Writing</th>\n",
              "      <th>State</th>\n",
              "      <th>LiveOnCampus</th>\n",
              "      <th>HowCommute</th>\n",
              "      <th>CommuteTime</th>\n",
              "      <th>SleepTime</th>\n",
              "      <th>StudyTime</th>\n",
              "    </tr>\n",
              "  </thead>\n",
              "  <tbody>\n",
              "    <tr>\n",
              "      <th>0</th>\n",
              "      <td>43783</td>\n",
              "      <td>3/22/1995</td>\n",
              "      <td>NaN</td>\n",
              "      <td>NaN</td>\n",
              "      <td>NaN</td>\n",
              "      <td>NaN</td>\n",
              "      <td>0.0</td>\n",
              "      <td>0</td>\n",
              "      <td>72.35</td>\n",
              "      <td>NaN</td>\n",
              "      <td>0.0</td>\n",
              "      <td>7.978</td>\n",
              "      <td>NaN</td>\n",
              "      <td>88.24</td>\n",
              "      <td>81.50</td>\n",
              "      <td>60.02</td>\n",
              "      <td>81.44</td>\n",
              "      <td>In state</td>\n",
              "      <td>1.0</td>\n",
              "      <td>NaN</td>\n",
              "      <td>NaN</td>\n",
              "      <td>7.0</td>\n",
              "      <td>1.0</td>\n",
              "    </tr>\n",
              "    <tr>\n",
              "      <th>1</th>\n",
              "      <td>20278</td>\n",
              "      <td>1/1/1995</td>\n",
              "      <td>NaN</td>\n",
              "      <td>NaN</td>\n",
              "      <td>NaN</td>\n",
              "      <td>Philosophy</td>\n",
              "      <td>0.0</td>\n",
              "      <td>0</td>\n",
              "      <td>70.66</td>\n",
              "      <td>179.20</td>\n",
              "      <td>0.0</td>\n",
              "      <td>8.004</td>\n",
              "      <td>0:06:21</td>\n",
              "      <td>89.45</td>\n",
              "      <td>85.25</td>\n",
              "      <td>70.19</td>\n",
              "      <td>73.27</td>\n",
              "      <td>NaN</td>\n",
              "      <td>1.0</td>\n",
              "      <td>NaN</td>\n",
              "      <td>NaN</td>\n",
              "      <td>5.0</td>\n",
              "      <td>2.0</td>\n",
              "    </tr>\n",
              "    <tr>\n",
              "      <th>2</th>\n",
              "      <td>20389</td>\n",
              "      <td>12/31/1994</td>\n",
              "      <td>NaN</td>\n",
              "      <td>NaN</td>\n",
              "      <td>NaN</td>\n",
              "      <td>NaN</td>\n",
              "      <td>0.0</td>\n",
              "      <td>0</td>\n",
              "      <td>70.68</td>\n",
              "      <td>198.52</td>\n",
              "      <td>0.0</td>\n",
              "      <td>NaN</td>\n",
              "      <td>0:07:00</td>\n",
              "      <td>96.73</td>\n",
              "      <td>86.88</td>\n",
              "      <td>71.20</td>\n",
              "      <td>84.24</td>\n",
              "      <td>In state</td>\n",
              "      <td>NaN</td>\n",
              "      <td>NaN</td>\n",
              "      <td>NaN</td>\n",
              "      <td>8.0</td>\n",
              "      <td>7.0</td>\n",
              "    </tr>\n",
              "    <tr>\n",
              "      <th>3</th>\n",
              "      <td>22820</td>\n",
              "      <td>12/1/1994</td>\n",
              "      <td>NaN</td>\n",
              "      <td>NaN</td>\n",
              "      <td>NaN</td>\n",
              "      <td>business administration</td>\n",
              "      <td>1.0</td>\n",
              "      <td>0</td>\n",
              "      <td>NaN</td>\n",
              "      <td>198.34</td>\n",
              "      <td>NaN</td>\n",
              "      <td>8.473</td>\n",
              "      <td>0:12:44</td>\n",
              "      <td>74.06</td>\n",
              "      <td>88.68</td>\n",
              "      <td>55.89</td>\n",
              "      <td>73.16</td>\n",
              "      <td>In state</td>\n",
              "      <td>1.0</td>\n",
              "      <td>NaN</td>\n",
              "      <td>NaN</td>\n",
              "      <td>2.0</td>\n",
              "      <td>6.0</td>\n",
              "    </tr>\n",
              "    <tr>\n",
              "      <th>4</th>\n",
              "      <td>24559</td>\n",
              "      <td>11/10/1994</td>\n",
              "      <td>NaN</td>\n",
              "      <td>NaN</td>\n",
              "      <td>NaN</td>\n",
              "      <td>NaN</td>\n",
              "      <td>1.0</td>\n",
              "      <td>1</td>\n",
              "      <td>67.43</td>\n",
              "      <td>128.17</td>\n",
              "      <td>2.0</td>\n",
              "      <td>NaN</td>\n",
              "      <td>0:06:25</td>\n",
              "      <td>82.61</td>\n",
              "      <td>77.30</td>\n",
              "      <td>65.52</td>\n",
              "      <td>80.45</td>\n",
              "      <td>Out of state</td>\n",
              "      <td>1.0</td>\n",
              "      <td>NaN</td>\n",
              "      <td>NaN</td>\n",
              "      <td>7.0</td>\n",
              "      <td>3.0</td>\n",
              "    </tr>\n",
              "  </tbody>\n",
              "</table>\n",
              "</div>"
            ],
            "text/plain": [
              "     ids        bday enrolldate  ... CommuteTime  SleepTime StudyTime\n",
              "0  43783   3/22/1995        NaN  ...         NaN        7.0       1.0\n",
              "1  20278    1/1/1995        NaN  ...         NaN        5.0       2.0\n",
              "2  20389  12/31/1994        NaN  ...         NaN        8.0       7.0\n",
              "3  22820   12/1/1994        NaN  ...         NaN        2.0       6.0\n",
              "4  24559  11/10/1994        NaN  ...         NaN        7.0       3.0\n",
              "\n",
              "[5 rows x 23 columns]"
            ]
          },
          "metadata": {},
          "execution_count": 68
        }
      ]
    },
    {
      "cell_type": "code",
      "metadata": {
        "colab": {
          "base_uri": "https://localhost:8080/",
          "height": 317
        },
        "id": "QuSELs9WjaiI",
        "outputId": "b948f130-83a8-47a3-c3b9-d79cf1eff43f"
      },
      "source": [
        "df3.describe()"
      ],
      "execution_count": 69,
      "outputs": [
        {
          "output_type": "execute_result",
          "data": {
            "text/html": [
              "<div>\n",
              "<style scoped>\n",
              "    .dataframe tbody tr th:only-of-type {\n",
              "        vertical-align: middle;\n",
              "    }\n",
              "\n",
              "    .dataframe tbody tr th {\n",
              "        vertical-align: top;\n",
              "    }\n",
              "\n",
              "    .dataframe thead th {\n",
              "        text-align: right;\n",
              "    }\n",
              "</style>\n",
              "<table border=\"1\" class=\"dataframe\">\n",
              "  <thead>\n",
              "    <tr style=\"text-align: right;\">\n",
              "      <th></th>\n",
              "      <th>ids</th>\n",
              "      <th>Rank</th>\n",
              "      <th>Gender</th>\n",
              "      <th>Athlete</th>\n",
              "      <th>Height</th>\n",
              "      <th>Weight</th>\n",
              "      <th>Smoking</th>\n",
              "      <th>Sprint</th>\n",
              "      <th>English</th>\n",
              "      <th>Reading</th>\n",
              "      <th>Math</th>\n",
              "      <th>Writing</th>\n",
              "      <th>LiveOnCampus</th>\n",
              "      <th>HowCommute</th>\n",
              "      <th>CommuteTime</th>\n",
              "      <th>SleepTime</th>\n",
              "      <th>StudyTime</th>\n",
              "    </tr>\n",
              "  </thead>\n",
              "  <tbody>\n",
              "    <tr>\n",
              "      <th>count</th>\n",
              "      <td>435.000000</td>\n",
              "      <td>406.000000</td>\n",
              "      <td>426.000000</td>\n",
              "      <td>435.000000</td>\n",
              "      <td>408.000000</td>\n",
              "      <td>376.000000</td>\n",
              "      <td>411.000000</td>\n",
              "      <td>374.000000</td>\n",
              "      <td>409.000000</td>\n",
              "      <td>425.000000</td>\n",
              "      <td>422.000000</td>\n",
              "      <td>404.000000</td>\n",
              "      <td>414.000000</td>\n",
              "      <td>247.000000</td>\n",
              "      <td>247.000000</td>\n",
              "      <td>403.000000</td>\n",
              "      <td>393.000000</td>\n",
              "    </tr>\n",
              "    <tr>\n",
              "      <th>mean</th>\n",
              "      <td>35279.022989</td>\n",
              "      <td>2.199507</td>\n",
              "      <td>0.521127</td>\n",
              "      <td>0.422989</td>\n",
              "      <td>68.031765</td>\n",
              "      <td>181.031569</td>\n",
              "      <td>0.430657</td>\n",
              "      <td>6.581933</td>\n",
              "      <td>82.787555</td>\n",
              "      <td>82.070800</td>\n",
              "      <td>65.468009</td>\n",
              "      <td>79.521683</td>\n",
              "      <td>0.410628</td>\n",
              "      <td>2.781377</td>\n",
              "      <td>27.000000</td>\n",
              "      <td>5.461538</td>\n",
              "      <td>7.208651</td>\n",
              "    </tr>\n",
              "    <tr>\n",
              "      <th>std</th>\n",
              "      <td>8637.733605</td>\n",
              "      <td>1.098641</td>\n",
              "      <td>0.500141</td>\n",
              "      <td>0.494602</td>\n",
              "      <td>5.325655</td>\n",
              "      <td>42.749680</td>\n",
              "      <td>0.766324</td>\n",
              "      <td>1.227069</td>\n",
              "      <td>6.839803</td>\n",
              "      <td>7.661778</td>\n",
              "      <td>8.375930</td>\n",
              "      <td>5.511410</td>\n",
              "      <td>0.492543</td>\n",
              "      <td>0.698996</td>\n",
              "      <td>10.072905</td>\n",
              "      <td>2.421994</td>\n",
              "      <td>4.356233</td>\n",
              "    </tr>\n",
              "    <tr>\n",
              "      <th>min</th>\n",
              "      <td>20183.000000</td>\n",
              "      <td>1.000000</td>\n",
              "      <td>0.000000</td>\n",
              "      <td>0.000000</td>\n",
              "      <td>55.000000</td>\n",
              "      <td>101.710000</td>\n",
              "      <td>0.000000</td>\n",
              "      <td>4.503000</td>\n",
              "      <td>59.830000</td>\n",
              "      <td>55.110000</td>\n",
              "      <td>35.320000</td>\n",
              "      <td>64.060000</td>\n",
              "      <td>0.000000</td>\n",
              "      <td>1.000000</td>\n",
              "      <td>4.000000</td>\n",
              "      <td>0.000000</td>\n",
              "      <td>0.000000</td>\n",
              "    </tr>\n",
              "    <tr>\n",
              "      <th>25%</th>\n",
              "      <td>28001.000000</td>\n",
              "      <td>1.000000</td>\n",
              "      <td>0.000000</td>\n",
              "      <td>0.000000</td>\n",
              "      <td>64.827500</td>\n",
              "      <td>153.860000</td>\n",
              "      <td>0.000000</td>\n",
              "      <td>5.587500</td>\n",
              "      <td>78.330000</td>\n",
              "      <td>77.190000</td>\n",
              "      <td>60.202500</td>\n",
              "      <td>75.750000</td>\n",
              "      <td>0.000000</td>\n",
              "      <td>3.000000</td>\n",
              "      <td>21.000000</td>\n",
              "      <td>4.000000</td>\n",
              "      <td>4.000000</td>\n",
              "    </tr>\n",
              "    <tr>\n",
              "      <th>50%</th>\n",
              "      <td>35350.000000</td>\n",
              "      <td>2.000000</td>\n",
              "      <td>1.000000</td>\n",
              "      <td>0.000000</td>\n",
              "      <td>67.570000</td>\n",
              "      <td>172.960000</td>\n",
              "      <td>0.000000</td>\n",
              "      <td>6.569000</td>\n",
              "      <td>83.150000</td>\n",
              "      <td>81.940000</td>\n",
              "      <td>65.445000</td>\n",
              "      <td>79.035000</td>\n",
              "      <td>0.000000</td>\n",
              "      <td>3.000000</td>\n",
              "      <td>27.000000</td>\n",
              "      <td>5.000000</td>\n",
              "      <td>6.000000</td>\n",
              "    </tr>\n",
              "    <tr>\n",
              "      <th>75%</th>\n",
              "      <td>42655.500000</td>\n",
              "      <td>3.000000</td>\n",
              "      <td>1.000000</td>\n",
              "      <td>1.000000</td>\n",
              "      <td>71.575000</td>\n",
              "      <td>204.307500</td>\n",
              "      <td>1.000000</td>\n",
              "      <td>7.458000</td>\n",
              "      <td>87.170000</td>\n",
              "      <td>87.080000</td>\n",
              "      <td>70.567500</td>\n",
              "      <td>83.687500</td>\n",
              "      <td>1.000000</td>\n",
              "      <td>3.000000</td>\n",
              "      <td>32.000000</td>\n",
              "      <td>7.000000</td>\n",
              "      <td>10.000000</td>\n",
              "    </tr>\n",
              "    <tr>\n",
              "      <th>max</th>\n",
              "      <td>49947.000000</td>\n",
              "      <td>4.000000</td>\n",
              "      <td>1.000000</td>\n",
              "      <td>1.000000</td>\n",
              "      <td>84.410000</td>\n",
              "      <td>350.070000</td>\n",
              "      <td>2.000000</td>\n",
              "      <td>9.597000</td>\n",
              "      <td>101.950000</td>\n",
              "      <td>103.620000</td>\n",
              "      <td>93.780000</td>\n",
              "      <td>93.010000</td>\n",
              "      <td>1.000000</td>\n",
              "      <td>4.000000</td>\n",
              "      <td>64.000000</td>\n",
              "      <td>13.000000</td>\n",
              "      <td>23.000000</td>\n",
              "    </tr>\n",
              "  </tbody>\n",
              "</table>\n",
              "</div>"
            ],
            "text/plain": [
              "                ids        Rank  ...   SleepTime   StudyTime\n",
              "count    435.000000  406.000000  ...  403.000000  393.000000\n",
              "mean   35279.022989    2.199507  ...    5.461538    7.208651\n",
              "std     8637.733605    1.098641  ...    2.421994    4.356233\n",
              "min    20183.000000    1.000000  ...    0.000000    0.000000\n",
              "25%    28001.000000    1.000000  ...    4.000000    4.000000\n",
              "50%    35350.000000    2.000000  ...    5.000000    6.000000\n",
              "75%    42655.500000    3.000000  ...    7.000000   10.000000\n",
              "max    49947.000000    4.000000  ...   13.000000   23.000000\n",
              "\n",
              "[8 rows x 17 columns]"
            ]
          },
          "metadata": {},
          "execution_count": 69
        }
      ]
    },
    {
      "cell_type": "code",
      "metadata": {
        "colab": {
          "base_uri": "https://localhost:8080/"
        },
        "id": "GvF_pKAGjaka",
        "outputId": "49230db7-affd-4fa9-ecf4-4c2ae0405ec1"
      },
      "source": [
        "df3.shape"
      ],
      "execution_count": 70,
      "outputs": [
        {
          "output_type": "execute_result",
          "data": {
            "text/plain": [
              "(435, 23)"
            ]
          },
          "metadata": {},
          "execution_count": 70
        }
      ]
    },
    {
      "cell_type": "code",
      "metadata": {
        "colab": {
          "base_uri": "https://localhost:8080/"
        },
        "id": "OyJEKkykjamq",
        "outputId": "1548223a-52b1-4c70-f4ac-251d59bc55d9"
      },
      "source": [
        "# H0: d_bar = 0\n",
        "# H1: d_bar > 0\n",
        "# Calculate test statistics using stats.ttest_rel()  \n",
        "# moodpost - moodpre\n",
        "pairedtest = stats.ttest_rel( df3.dropna().Math,df3.dropna().English,)\n",
        "pairedtest"
      ],
      "execution_count": 89,
      "outputs": [
        {
          "output_type": "execute_result",
          "data": {
            "text/plain": [
              "Ttest_relResult(statistic=-12.29684530879902, pvalue=5.160461862831768e-17)"
            ]
          },
          "metadata": {},
          "execution_count": 89
        }
      ]
    },
    {
      "cell_type": "code",
      "metadata": {
        "colab": {
          "base_uri": "https://localhost:8080/"
        },
        "id": "-ckHGW0BjapC",
        "outputId": "3f6a343b-027e-43a8-a54d-50a87e0c4a56"
      },
      "source": [
        "stats.ttest_ind(df3.dropna().English, df3.dropna().Math)\n"
      ],
      "execution_count": 90,
      "outputs": [
        {
          "output_type": "execute_result",
          "data": {
            "text/plain": [
              "Ttest_indResult(statistic=10.787205641803522, pvalue=1.1746036768217507e-18)"
            ]
          },
          "metadata": {},
          "execution_count": 90
        }
      ]
    },
    {
      "cell_type": "code",
      "metadata": {
        "colab": {
          "base_uri": "https://localhost:8080/"
        },
        "id": "3NkBdRheEdiT",
        "outputId": "bd14da0b-1bd3-41ed-d4b0-57c9eccecbe8"
      },
      "source": [
        "xdiff=df3.Math.mean()-df3.English.mean()\n",
        "sdiff=df3.Math.std()-df3.English.std()\n",
        "n=435\n",
        "\n",
        "sx=sdiff/np.sqrt(n)\n",
        "t=xdiff/sx\n",
        "t"
      ],
      "execution_count": 103,
      "outputs": [
        {
          "output_type": "execute_result",
          "data": {
            "text/plain": [
              "-235.15497230331823"
            ]
          },
          "metadata": {},
          "execution_count": 103
        }
      ]
    }
  ]
}